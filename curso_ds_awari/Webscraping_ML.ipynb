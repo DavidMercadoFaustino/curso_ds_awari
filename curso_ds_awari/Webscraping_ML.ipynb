{
  "nbformat": 4,
  "nbformat_minor": 0,
  "metadata": {
    "colab": {
      "name": "Webscraping_ML.ipynb",
      "provenance": [],
      "authorship_tag": "ABX9TyOxd8qRW7Kuu17IDhK0LANJ",
      "include_colab_link": true
    },
    "kernelspec": {
      "name": "python3",
      "display_name": "Python 3"
    }
  },
  "cells": [
    {
      "cell_type": "markdown",
      "metadata": {
        "id": "view-in-github",
        "colab_type": "text"
      },
      "source": [
        "<a href=\"https://colab.research.google.com/github/DavidMercadoFaustino/curso_ds_awari/blob/master/curso_ds_awari/Webscraping_ML.ipynb\" target=\"_parent\"><img src=\"https://colab.research.google.com/assets/colab-badge.svg\" alt=\"Open In Colab\"/></a>"
      ]
    },
    {
      "cell_type": "markdown",
      "metadata": {
        "id": "YnTpflcl36cj",
        "colab_type": "text"
      },
      "source": [
        "#Webscraping"
      ]
    },
    {
      "cell_type": "code",
      "metadata": {
        "id": "3J-s5qe2zVAM",
        "colab_type": "code",
        "colab": {
          "base_uri": "https://localhost:8080/",
          "height": 51
        },
        "outputId": "f9ad7bd1-691b-4542-d4ab-507fda3e2987"
      },
      "source": [
        "import requests\n",
        "import re\n",
        "import pandas as pd\n",
        "from bs4 import BeautifulSoup\n",
        "from time import sleep\n",
        "import numpy as np\n",
        "import seaborn as sns\n"
      ],
      "execution_count": null,
      "outputs": [
        {
          "output_type": "stream",
          "text": [
            "/usr/local/lib/python3.6/dist-packages/statsmodels/tools/_testing.py:19: FutureWarning: pandas.util.testing is deprecated. Use the functions in the public API at pandas.testing instead.\n",
            "  import pandas.util.testing as tm\n"
          ],
          "name": "stderr"
        }
      ]
    },
    {
      "cell_type": "code",
      "metadata": {
        "id": "hvC2utJywv-k",
        "colab_type": "code",
        "colab": {}
      },
      "source": [
        "indice_pagina_ml = list(range(1,1970,48))"
      ],
      "execution_count": null,
      "outputs": []
    },
    {
      "cell_type": "code",
      "metadata": {
        "id": "uWIbRTSAaTYu",
        "colab_type": "code",
        "colab": {
          "base_uri": "https://localhost:8080/",
          "height": 357
        },
        "outputId": "475bad90-81a7-4fcc-a0b3-4c28351c6ff6"
      },
      "source": [
        "indice_pagina_ml[:20]"
      ],
      "execution_count": null,
      "outputs": [
        {
          "output_type": "execute_result",
          "data": {
            "text/plain": [
              "[1,\n",
              " 49,\n",
              " 97,\n",
              " 145,\n",
              " 193,\n",
              " 241,\n",
              " 289,\n",
              " 337,\n",
              " 385,\n",
              " 433,\n",
              " 481,\n",
              " 529,\n",
              " 577,\n",
              " 625,\n",
              " 673,\n",
              " 721,\n",
              " 769,\n",
              " 817,\n",
              " 865,\n",
              " 913]"
            ]
          },
          "metadata": {
            "tags": []
          },
          "execution_count": 4
        }
      ]
    },
    {
      "cell_type": "code",
      "metadata": {
        "id": "EdOrzMSNx2IA",
        "colab_type": "code",
        "colab": {}
      },
      "source": [
        "indice_zonas = ['sao-paulo-zona-sul','sao-paulo-zona-norte','sao-paulo-zona-leste','sao-paulo-zona-oeste','santo-andre','campinas','guarulhos','ribeirao-preto','sao-bernardo-do-campo']"
      ],
      "execution_count": null,
      "outputs": []
    },
    {
      "cell_type": "code",
      "metadata": {
        "id": "LQPs9tAnyMHJ",
        "colab_type": "code",
        "colab": {}
      },
      "source": [
        "lista_zona = []\n",
        "lista_precos = []\n",
        "quartos = []\n",
        "areas = []\n",
        "conteudo = []\n",
        "for z in indice_zonas: \n",
        "  for n in indice_pagina_ml:\n",
        "    conteudo = requests.get(f'https://imoveis.mercadolivre.com.br/casas/aluguel/sao-paulo/{z}/_Desde_{n}').content\n",
        "    sopa = BeautifulSoup(conteudo)\n",
        "    precos = sopa.find_all('span', class_='price__fraction')\n",
        "    areas_e_quartos = sopa.find_all('div', class_='item__attrs')\n",
        "    for padrao in precos:\n",
        "      preco = re.findall('<span class=\"price__fraction\">(.*)</span>', str(padrao))\n",
        "      lista_precos.append(preco[0])\n",
        "    for elemento in areas_e_quartos:\n",
        "      area = re.findall('> (.*) m²', str(elemento))\n",
        "      if area==[]:\n",
        "        area=np.nan\n",
        "        areas.append(area)\n",
        "      else:\n",
        "        areas.append(area[0])\n",
        "    for elemento in areas_e_quartos:\n",
        "      quarto = re.findall('\\| (.*) quarto', str(elemento))\n",
        "      if quarto==[]:\n",
        "        quarto=np.nan\n",
        "        quartos.append(quarto)\n",
        "      else:\n",
        "        quartos.append(quarto[0])\n",
        "  \n",
        "  while len(lista_zona)< len(lista_precos):\n",
        "     lista_zona.append(z)\n",
        "\n",
        "\n",
        "\n"
      ],
      "execution_count": null,
      "outputs": []
    },
    {
      "cell_type": "code",
      "metadata": {
        "id": "oByyODOB47DX",
        "colab_type": "code",
        "colab": {
          "base_uri": "https://localhost:8080/",
          "height": 34
        },
        "outputId": "231b7629-9604-47e5-9451-629dc6f7ce15"
      },
      "source": [
        "len(lista_precos)"
      ],
      "execution_count": null,
      "outputs": [
        {
          "output_type": "execute_result",
          "data": {
            "text/plain": [
              "16636"
            ]
          },
          "metadata": {
            "tags": []
          },
          "execution_count": 126
        }
      ]
    },
    {
      "cell_type": "code",
      "metadata": {
        "id": "W_bLRseO2Igq",
        "colab_type": "code",
        "colab": {
          "base_uri": "https://localhost:8080/",
          "height": 34
        },
        "outputId": "c4b0c6b7-d60e-4d0a-acb3-fc19eb7d2625"
      },
      "source": [
        "len(quartos)\n"
      ],
      "execution_count": null,
      "outputs": [
        {
          "output_type": "execute_result",
          "data": {
            "text/plain": [
              "16636"
            ]
          },
          "metadata": {
            "tags": []
          },
          "execution_count": 127
        }
      ]
    },
    {
      "cell_type": "code",
      "metadata": {
        "id": "atjxazCC3NV-",
        "colab_type": "code",
        "colab": {
          "base_uri": "https://localhost:8080/",
          "height": 34
        },
        "outputId": "3e6336b4-42ce-417a-e1c6-a12d1443eb05"
      },
      "source": [
        "len(areas)"
      ],
      "execution_count": null,
      "outputs": [
        {
          "output_type": "execute_result",
          "data": {
            "text/plain": [
              "16636"
            ]
          },
          "metadata": {
            "tags": []
          },
          "execution_count": 128
        }
      ]
    },
    {
      "cell_type": "code",
      "metadata": {
        "id": "VjEAKF334WZU",
        "colab_type": "code",
        "colab": {
          "base_uri": "https://localhost:8080/",
          "height": 34
        },
        "outputId": "00b320a3-f327-4925-d2bd-479065855dd9"
      },
      "source": [
        "len(lista_zona)"
      ],
      "execution_count": null,
      "outputs": [
        {
          "output_type": "execute_result",
          "data": {
            "text/plain": [
              "16636"
            ]
          },
          "metadata": {
            "tags": []
          },
          "execution_count": 129
        }
      ]
    },
    {
      "cell_type": "code",
      "metadata": {
        "id": "8gwec1CH-dto",
        "colab_type": "code",
        "colab": {}
      },
      "source": [
        "dados = {'Zona': lista_zona,\n",
        "'area': areas,\n",
        "'quartos': quartos, 'aluguel':lista_precos}"
      ],
      "execution_count": null,
      "outputs": []
    },
    {
      "cell_type": "code",
      "metadata": {
        "id": "BojBoG5K-gXW",
        "colab_type": "code",
        "colab": {}
      },
      "source": [
        "df = pd.DataFrame(dados)"
      ],
      "execution_count": null,
      "outputs": []
    },
    {
      "cell_type": "code",
      "metadata": {
        "id": "T5kf-vfEnNWd",
        "colab_type": "code",
        "colab": {
          "base_uri": "https://localhost:8080/",
          "height": 102
        },
        "outputId": "bb268f1a-ef2f-44bf-b379-47fc5ff9e2ed"
      },
      "source": [
        "df.dtypes"
      ],
      "execution_count": null,
      "outputs": [
        {
          "output_type": "execute_result",
          "data": {
            "text/plain": [
              "Zona       object\n",
              "area       object\n",
              "quartos    object\n",
              "aluguel    object\n",
              "dtype: object"
            ]
          },
          "metadata": {
            "tags": []
          },
          "execution_count": 135
        }
      ]
    },
    {
      "cell_type": "code",
      "metadata": {
        "id": "CPjv91H7qooP",
        "colab_type": "code",
        "colab": {}
      },
      "source": [
        "df['aluguel'] = [x.replace(\".\", \"\") for x in df[\"aluguel\"]]"
      ],
      "execution_count": null,
      "outputs": []
    },
    {
      "cell_type": "code",
      "metadata": {
        "id": "TGR3L4qDrS1D",
        "colab_type": "code",
        "colab": {}
      },
      "source": [
        "df['aluguel'] = pd.to_numeric(df['aluguel'])"
      ],
      "execution_count": null,
      "outputs": []
    },
    {
      "cell_type": "code",
      "metadata": {
        "id": "SFc6QEVOKhB7",
        "colab_type": "code",
        "colab": {}
      },
      "source": [
        "df['area'] = pd.to_numeric(df['area'],downcast='integer')"
      ],
      "execution_count": null,
      "outputs": []
    },
    {
      "cell_type": "code",
      "metadata": {
        "id": "bS-QJoGSMZn9",
        "colab_type": "code",
        "colab": {}
      },
      "source": [
        "df['quartos'] = pd.to_numeric(df['quartos'],downcast='integer')"
      ],
      "execution_count": null,
      "outputs": []
    },
    {
      "cell_type": "code",
      "metadata": {
        "id": "JeccIrD3ku6P",
        "colab_type": "code",
        "colab": {
          "base_uri": "https://localhost:8080/",
          "height": 102
        },
        "outputId": "71af589b-2733-49fc-aefc-a6ad852345e0"
      },
      "source": [
        "df.dtypes"
      ],
      "execution_count": null,
      "outputs": [
        {
          "output_type": "execute_result",
          "data": {
            "text/plain": [
              "Zona        object\n",
              "area       float64\n",
              "quartos    float64\n",
              "aluguel      int64\n",
              "dtype: object"
            ]
          },
          "metadata": {
            "tags": []
          },
          "execution_count": 150
        }
      ]
    },
    {
      "cell_type": "code",
      "metadata": {
        "id": "PdI-H_pfBomI",
        "colab_type": "code",
        "colab": {
          "base_uri": "https://localhost:8080/",
          "height": 102
        },
        "outputId": "e5c62ef8-45c1-41c9-ba3e-03a4c9d44e11"
      },
      "source": [
        "df.isna().sum()"
      ],
      "execution_count": null,
      "outputs": [
        {
          "output_type": "execute_result",
          "data": {
            "text/plain": [
              "Zona          0\n",
              "area        782\n",
              "quartos    2839\n",
              "aluguel       0\n",
              "dtype: int64"
            ]
          },
          "metadata": {
            "tags": []
          },
          "execution_count": 152
        }
      ]
    },
    {
      "cell_type": "code",
      "metadata": {
        "id": "7KM3CrDYJRfx",
        "colab_type": "code",
        "colab": {
          "base_uri": "https://localhost:8080/",
          "height": 204
        },
        "outputId": "c63765c0-0622-4966-db2d-15443d889e28"
      },
      "source": [
        "df.head()"
      ],
      "execution_count": null,
      "outputs": [
        {
          "output_type": "execute_result",
          "data": {
            "text/html": [
              "<div>\n",
              "<style scoped>\n",
              "    .dataframe tbody tr th:only-of-type {\n",
              "        vertical-align: middle;\n",
              "    }\n",
              "\n",
              "    .dataframe tbody tr th {\n",
              "        vertical-align: top;\n",
              "    }\n",
              "\n",
              "    .dataframe thead th {\n",
              "        text-align: right;\n",
              "    }\n",
              "</style>\n",
              "<table border=\"1\" class=\"dataframe\">\n",
              "  <thead>\n",
              "    <tr style=\"text-align: right;\">\n",
              "      <th></th>\n",
              "      <th>Zona</th>\n",
              "      <th>area</th>\n",
              "      <th>quartos</th>\n",
              "      <th>aluguel</th>\n",
              "    </tr>\n",
              "  </thead>\n",
              "  <tbody>\n",
              "    <tr>\n",
              "      <th>0</th>\n",
              "      <td>sao-paulo-zona-sul</td>\n",
              "      <td>30.0</td>\n",
              "      <td>1.0</td>\n",
              "      <td>700</td>\n",
              "    </tr>\n",
              "    <tr>\n",
              "      <th>1</th>\n",
              "      <td>sao-paulo-zona-sul</td>\n",
              "      <td>90.0</td>\n",
              "      <td>2.0</td>\n",
              "      <td>1700</td>\n",
              "    </tr>\n",
              "    <tr>\n",
              "      <th>2</th>\n",
              "      <td>sao-paulo-zona-sul</td>\n",
              "      <td>30.0</td>\n",
              "      <td>1.0</td>\n",
              "      <td>600</td>\n",
              "    </tr>\n",
              "    <tr>\n",
              "      <th>3</th>\n",
              "      <td>sao-paulo-zona-sul</td>\n",
              "      <td>40.0</td>\n",
              "      <td>1.0</td>\n",
              "      <td>850</td>\n",
              "    </tr>\n",
              "    <tr>\n",
              "      <th>4</th>\n",
              "      <td>sao-paulo-zona-sul</td>\n",
              "      <td>20.0</td>\n",
              "      <td>1.0</td>\n",
              "      <td>500</td>\n",
              "    </tr>\n",
              "  </tbody>\n",
              "</table>\n",
              "</div>"
            ],
            "text/plain": [
              "                 Zona  area  quartos  aluguel\n",
              "0  sao-paulo-zona-sul  30.0      1.0      700\n",
              "1  sao-paulo-zona-sul  90.0      2.0     1700\n",
              "2  sao-paulo-zona-sul  30.0      1.0      600\n",
              "3  sao-paulo-zona-sul  40.0      1.0      850\n",
              "4  sao-paulo-zona-sul  20.0      1.0      500"
            ]
          },
          "metadata": {
            "tags": []
          },
          "execution_count": 153
        }
      ]
    },
    {
      "cell_type": "code",
      "metadata": {
        "id": "f_DBq8tkkz_B",
        "colab_type": "code",
        "colab": {
          "base_uri": "https://localhost:8080/",
          "height": 297
        },
        "outputId": "8be1e1b8-b9af-42e6-bc91-c7eba625639b"
      },
      "source": [
        "df.describe()"
      ],
      "execution_count": null,
      "outputs": [
        {
          "output_type": "execute_result",
          "data": {
            "text/html": [
              "<div>\n",
              "<style scoped>\n",
              "    .dataframe tbody tr th:only-of-type {\n",
              "        vertical-align: middle;\n",
              "    }\n",
              "\n",
              "    .dataframe tbody tr th {\n",
              "        vertical-align: top;\n",
              "    }\n",
              "\n",
              "    .dataframe thead th {\n",
              "        text-align: right;\n",
              "    }\n",
              "</style>\n",
              "<table border=\"1\" class=\"dataframe\">\n",
              "  <thead>\n",
              "    <tr style=\"text-align: right;\">\n",
              "      <th></th>\n",
              "      <th>area</th>\n",
              "      <th>quartos</th>\n",
              "      <th>aluguel</th>\n",
              "    </tr>\n",
              "  </thead>\n",
              "  <tbody>\n",
              "    <tr>\n",
              "      <th>count</th>\n",
              "      <td>15854.000000</td>\n",
              "      <td>13797.000000</td>\n",
              "      <td>1.663600e+04</td>\n",
              "    </tr>\n",
              "    <tr>\n",
              "      <th>mean</th>\n",
              "      <td>272.990791</td>\n",
              "      <td>2.883743</td>\n",
              "      <td>1.824312e+04</td>\n",
              "    </tr>\n",
              "    <tr>\n",
              "      <th>std</th>\n",
              "      <td>3107.991997</td>\n",
              "      <td>1.467872</td>\n",
              "      <td>3.048517e+05</td>\n",
              "    </tr>\n",
              "    <tr>\n",
              "      <th>min</th>\n",
              "      <td>1.000000</td>\n",
              "      <td>0.000000</td>\n",
              "      <td>2.500000e+02</td>\n",
              "    </tr>\n",
              "    <tr>\n",
              "      <th>25%</th>\n",
              "      <td>100.000000</td>\n",
              "      <td>2.000000</td>\n",
              "      <td>1.700000e+03</td>\n",
              "    </tr>\n",
              "    <tr>\n",
              "      <th>50%</th>\n",
              "      <td>180.000000</td>\n",
              "      <td>3.000000</td>\n",
              "      <td>3.200000e+03</td>\n",
              "    </tr>\n",
              "    <tr>\n",
              "      <th>75%</th>\n",
              "      <td>300.000000</td>\n",
              "      <td>3.000000</td>\n",
              "      <td>6.000000e+03</td>\n",
              "    </tr>\n",
              "    <tr>\n",
              "      <th>max</th>\n",
              "      <td>300060.000000</td>\n",
              "      <td>36.000000</td>\n",
              "      <td>3.500000e+07</td>\n",
              "    </tr>\n",
              "  </tbody>\n",
              "</table>\n",
              "</div>"
            ],
            "text/plain": [
              "                area       quartos       aluguel\n",
              "count   15854.000000  13797.000000  1.663600e+04\n",
              "mean      272.990791      2.883743  1.824312e+04\n",
              "std      3107.991997      1.467872  3.048517e+05\n",
              "min         1.000000      0.000000  2.500000e+02\n",
              "25%       100.000000      2.000000  1.700000e+03\n",
              "50%       180.000000      3.000000  3.200000e+03\n",
              "75%       300.000000      3.000000  6.000000e+03\n",
              "max    300060.000000     36.000000  3.500000e+07"
            ]
          },
          "metadata": {
            "tags": []
          },
          "execution_count": 154
        }
      ]
    },
    {
      "cell_type": "code",
      "metadata": {
        "id": "cXMlaR6-yQII",
        "colab_type": "code",
        "colab": {
          "base_uri": "https://localhost:8080/",
          "height": 34
        },
        "outputId": "3328b1a5-12bd-4fd3-d696-86199a1cdf0f"
      },
      "source": [
        " np.percentile(df['aluguel'], 90)"
      ],
      "execution_count": null,
      "outputs": [
        {
          "output_type": "execute_result",
          "data": {
            "text/plain": [
              "12000.0"
            ]
          },
          "metadata": {
            "tags": []
          },
          "execution_count": 158
        }
      ]
    },
    {
      "cell_type": "code",
      "metadata": {
        "id": "s3JawmQRydJd",
        "colab_type": "code",
        "colab": {}
      },
      "source": [
        "df = df.drop(columns=['area-binned'])"
      ],
      "execution_count": null,
      "outputs": []
    },
    {
      "cell_type": "code",
      "metadata": {
        "id": "rcfzQT9nzpEg",
        "colab_type": "code",
        "colab": {
          "base_uri": "https://localhost:8080/",
          "height": 204
        },
        "outputId": "4dc1da48-2004-4434-ae1f-0fbb64cf284d"
      },
      "source": [
        "df.head()"
      ],
      "execution_count": null,
      "outputs": [
        {
          "output_type": "execute_result",
          "data": {
            "text/html": [
              "<div>\n",
              "<style scoped>\n",
              "    .dataframe tbody tr th:only-of-type {\n",
              "        vertical-align: middle;\n",
              "    }\n",
              "\n",
              "    .dataframe tbody tr th {\n",
              "        vertical-align: top;\n",
              "    }\n",
              "\n",
              "    .dataframe thead th {\n",
              "        text-align: right;\n",
              "    }\n",
              "</style>\n",
              "<table border=\"1\" class=\"dataframe\">\n",
              "  <thead>\n",
              "    <tr style=\"text-align: right;\">\n",
              "      <th></th>\n",
              "      <th>Zona</th>\n",
              "      <th>area</th>\n",
              "      <th>quartos</th>\n",
              "      <th>aluguel</th>\n",
              "    </tr>\n",
              "  </thead>\n",
              "  <tbody>\n",
              "    <tr>\n",
              "      <th>0</th>\n",
              "      <td>sao-paulo-zona-sul</td>\n",
              "      <td>30.0</td>\n",
              "      <td>1.0</td>\n",
              "      <td>700</td>\n",
              "    </tr>\n",
              "    <tr>\n",
              "      <th>1</th>\n",
              "      <td>sao-paulo-zona-sul</td>\n",
              "      <td>90.0</td>\n",
              "      <td>2.0</td>\n",
              "      <td>1700</td>\n",
              "    </tr>\n",
              "    <tr>\n",
              "      <th>2</th>\n",
              "      <td>sao-paulo-zona-sul</td>\n",
              "      <td>30.0</td>\n",
              "      <td>1.0</td>\n",
              "      <td>600</td>\n",
              "    </tr>\n",
              "    <tr>\n",
              "      <th>3</th>\n",
              "      <td>sao-paulo-zona-sul</td>\n",
              "      <td>40.0</td>\n",
              "      <td>1.0</td>\n",
              "      <td>850</td>\n",
              "    </tr>\n",
              "    <tr>\n",
              "      <th>4</th>\n",
              "      <td>sao-paulo-zona-sul</td>\n",
              "      <td>20.0</td>\n",
              "      <td>1.0</td>\n",
              "      <td>500</td>\n",
              "    </tr>\n",
              "  </tbody>\n",
              "</table>\n",
              "</div>"
            ],
            "text/plain": [
              "                 Zona  area  quartos  aluguel\n",
              "0  sao-paulo-zona-sul  30.0      1.0      700\n",
              "1  sao-paulo-zona-sul  90.0      2.0     1700\n",
              "2  sao-paulo-zona-sul  30.0      1.0      600\n",
              "3  sao-paulo-zona-sul  40.0      1.0      850\n",
              "4  sao-paulo-zona-sul  20.0      1.0      500"
            ]
          },
          "metadata": {
            "tags": []
          },
          "execution_count": 93
        }
      ]
    },
    {
      "cell_type": "code",
      "metadata": {
        "id": "ytNFaEaxztg2",
        "colab_type": "code",
        "colab": {}
      },
      "source": [
        "df = df.loc[df['aluguel']<(np.percentile(df['aluguel'], 90))]"
      ],
      "execution_count": null,
      "outputs": []
    },
    {
      "cell_type": "code",
      "metadata": {
        "id": "M7B6ldus4S-f",
        "colab_type": "code",
        "colab": {
          "base_uri": "https://localhost:8080/",
          "height": 297
        },
        "outputId": "714eff43-57c5-484e-b561-5ec159bdcf2c"
      },
      "source": [
        "df.describe()"
      ],
      "execution_count": null,
      "outputs": [
        {
          "output_type": "execute_result",
          "data": {
            "text/html": [
              "<div>\n",
              "<style scoped>\n",
              "    .dataframe tbody tr th:only-of-type {\n",
              "        vertical-align: middle;\n",
              "    }\n",
              "\n",
              "    .dataframe tbody tr th {\n",
              "        vertical-align: top;\n",
              "    }\n",
              "\n",
              "    .dataframe thead th {\n",
              "        text-align: right;\n",
              "    }\n",
              "</style>\n",
              "<table border=\"1\" class=\"dataframe\">\n",
              "  <thead>\n",
              "    <tr style=\"text-align: right;\">\n",
              "      <th></th>\n",
              "      <th>area</th>\n",
              "      <th>quartos</th>\n",
              "      <th>aluguel</th>\n",
              "    </tr>\n",
              "  </thead>\n",
              "  <tbody>\n",
              "    <tr>\n",
              "      <th>count</th>\n",
              "      <td>14165.000000</td>\n",
              "      <td>12566.000000</td>\n",
              "      <td>14931.000000</td>\n",
              "    </tr>\n",
              "    <tr>\n",
              "      <th>mean</th>\n",
              "      <td>238.909283</td>\n",
              "      <td>2.752029</td>\n",
              "      <td>3540.428036</td>\n",
              "    </tr>\n",
              "    <tr>\n",
              "      <th>std</th>\n",
              "      <td>3264.405570</td>\n",
              "      <td>1.280772</td>\n",
              "      <td>2514.624886</td>\n",
              "    </tr>\n",
              "    <tr>\n",
              "      <th>min</th>\n",
              "      <td>1.000000</td>\n",
              "      <td>0.000000</td>\n",
              "      <td>250.000000</td>\n",
              "    </tr>\n",
              "    <tr>\n",
              "      <th>25%</th>\n",
              "      <td>90.000000</td>\n",
              "      <td>2.000000</td>\n",
              "      <td>1500.000000</td>\n",
              "    </tr>\n",
              "    <tr>\n",
              "      <th>50%</th>\n",
              "      <td>160.000000</td>\n",
              "      <td>3.000000</td>\n",
              "      <td>2900.000000</td>\n",
              "    </tr>\n",
              "    <tr>\n",
              "      <th>75%</th>\n",
              "      <td>250.000000</td>\n",
              "      <td>3.000000</td>\n",
              "      <td>5000.000000</td>\n",
              "    </tr>\n",
              "    <tr>\n",
              "      <th>max</th>\n",
              "      <td>300060.000000</td>\n",
              "      <td>36.000000</td>\n",
              "      <td>11950.000000</td>\n",
              "    </tr>\n",
              "  </tbody>\n",
              "</table>\n",
              "</div>"
            ],
            "text/plain": [
              "                area       quartos       aluguel\n",
              "count   14165.000000  12566.000000  14931.000000\n",
              "mean      238.909283      2.752029   3540.428036\n",
              "std      3264.405570      1.280772   2514.624886\n",
              "min         1.000000      0.000000    250.000000\n",
              "25%        90.000000      2.000000   1500.000000\n",
              "50%       160.000000      3.000000   2900.000000\n",
              "75%       250.000000      3.000000   5000.000000\n",
              "max    300060.000000     36.000000  11950.000000"
            ]
          },
          "metadata": {
            "tags": []
          },
          "execution_count": 161
        }
      ]
    },
    {
      "cell_type": "code",
      "metadata": {
        "id": "fnFXtTzE4UrQ",
        "colab_type": "code",
        "colab": {
          "base_uri": "https://localhost:8080/",
          "height": 269
        },
        "outputId": "0a36b6a8-8b8d-4dfd-f4a2-bbbddb0e0686"
      },
      "source": [
        "sns.boxplot(y='aluguel',data=df)"
      ],
      "execution_count": null,
      "outputs": [
        {
          "output_type": "execute_result",
          "data": {
            "text/plain": [
              "<matplotlib.axes._subplots.AxesSubplot at 0x7f01dbbb2160>"
            ]
          },
          "metadata": {
            "tags": []
          },
          "execution_count": 162
        },
        {
          "output_type": "display_data",
          "data": {
            "image/png": "[encoded data removed]",
            "text/plain": [
              "<Figure size 432x288 with 1 Axes>"
            ]
          },
          "metadata": {
            "tags": [],
            "needs_background": "light"
          }
        }
      ]
    },
    {
      "cell_type": "code",
      "metadata": {
        "id": "2poXnP4y6CtM",
        "colab_type": "code",
        "colab": {
          "base_uri": "https://localhost:8080/",
          "height": 296
        },
        "outputId": "c5e125e3-9e32-4d5f-ea62-70a0f0d70331"
      },
      "source": [
        "sns.regplot(x='area',y='aluguel',data=df)\n"
      ],
      "execution_count": null,
      "outputs": [
        {
          "output_type": "execute_result",
          "data": {
            "text/plain": [
              "<matplotlib.axes._subplots.AxesSubplot at 0x7f01dab50940>"
            ]
          },
          "metadata": {
            "tags": []
          },
          "execution_count": 177
        },
        {
          "output_type": "display_data",
          "data": {
            "image/png": "[encoded data removed]",
            "text/plain": [
              "<Figure size 432x288 with 1 Axes>"
            ]
          },
          "metadata": {
            "tags": [],
            "needs_background": "light"
          }
        }
      ]
    },
    {
      "cell_type": "code",
      "metadata": {
        "id": "pU1xulOK6wXD",
        "colab_type": "code",
        "colab": {
          "base_uri": "https://localhost:8080/",
          "height": 34
        },
        "outputId": "632a84f2-81e6-45e1-c995-ff185a7d6447"
      },
      "source": [
        "max(df['area'])"
      ],
      "execution_count": null,
      "outputs": [
        {
          "output_type": "execute_result",
          "data": {
            "text/plain": [
              "980.0"
            ]
          },
          "metadata": {
            "tags": []
          },
          "execution_count": 178
        }
      ]
    },
    {
      "cell_type": "code",
      "metadata": {
        "id": "zAGxB557FRhG",
        "colab_type": "code",
        "colab": {}
      },
      "source": [
        "df = df.loc[df['area']<1000]"
      ],
      "execution_count": null,
      "outputs": []
    },
    {
      "cell_type": "code",
      "metadata": {
        "id": "5_o7OazhFlMT",
        "colab_type": "code",
        "colab": {}
      },
      "source": [
        ""
      ],
      "execution_count": null,
      "outputs": []
    }
  ]
}